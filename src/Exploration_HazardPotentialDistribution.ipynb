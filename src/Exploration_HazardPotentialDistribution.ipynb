{
  "cells": [
    {
      "cell_type": "markdown",
      "id": "47551129-efa4-4bdc-8477-3b8fc549f659",
      "metadata": {
        "id": "47551129-efa4-4bdc-8477-3b8fc549f659"
      },
      "source": [
        "# Obtaining fire-negative locations\n",
        "\n",
        "Locations where fires did not occur, with an overall similar distribution of Wildfire Hazard Potential (WHP) to the fire-positive locations."
      ]
    },
    {
      "cell_type": "markdown",
      "id": "3c6414f3-097c-49c2-ab3c-3c2e80d8d18d",
      "metadata": {
        "id": "3c6414f3-097c-49c2-ab3c-3c2e80d8d18d"
      },
      "source": [
        "## Wildfire dataset\n",
        "\n",
        "National Intragency Fire Center:\n",
        "- Historical wildfires: https://data-nifc.opendata.arcgis.com/datasets/nifc::wfigs-wildland-fire-locations-full-history/about"
      ]
    },
    {
      "cell_type": "code",
      "source": [
        "from google.colab import drive\n",
        "import os\n",
        "\n",
        "drive.mount('/content/drive')\n",
        "base_dir = 'drive/MyDrive/Senior Year/ML & Climate/ML-Climate-Final-Project-Template/src'\n",
        "os.chdir(base_dir)"
      ],
      "metadata": {
        "colab": {
          "base_uri": "https://localhost:8080/"
        },
        "id": "uHBi_D_1baEu",
        "outputId": "baafbba1-9494-4025-fee3-0a4424b4decf"
      },
      "id": "uHBi_D_1baEu",
      "execution_count": 1,
      "outputs": [
        {
          "output_type": "stream",
          "name": "stdout",
          "text": [
            "Drive already mounted at /content/drive; to attempt to forcibly remount, call drive.mount(\"/content/drive\", force_remount=True).\n"
          ]
        }
      ]
    },
    {
      "cell_type": "markdown",
      "source": [
        "## WHP dataset \n",
        "\n",
        "Dillon, Gregory K; Gilbertson-Day, Julie W. 2020. Wildfire Hazard Potential for the United States (270-m), version 2020. 3rd Edition. Fort Collins, CO: Forest Service Research Data Archive. https://doi.org/10.2737/RDS-2015-0047-3\n",
        "\n",
        "The data presented here are the product of modeling, and as such carry an inherent degree of error and uncertainty. Users are strongly encouraged to read and fully comprehend the metadata and other available documentation prior to data use. No warranty is made by the Originator as to the accuracy, reliability, or completeness of these data for individual use or aggregate use with other data, or for purposes not intended by the Originator. These datasets are intended to provide nationally-consistent information for the purpose of comparing relative wildfire risk among communities nationally or within a state or county. Data included here are not intended to replace locally-calibrated state, regional, or local risk assessments where they exist. It is the responsibility of the user to be familiar with the value, assumptions, and limitations of these national data publications. Managers and planners must evaluate these data according to the scale and requirements specific to their needs. Spatial information may not meet National Map Accuracy Standards. This information may be updated without notification."
      ],
      "metadata": {
        "id": "C78eW5ncoPXL"
      },
      "id": "C78eW5ncoPXL"
    },
    {
      "cell_type": "code",
      "source": [
        "import rioxarray as rxr\n",
        "import rasterio\n",
        "\n",
        "whp_raster = rxr.open_rasterio(\"data/whp2020_GeoTIF/whp2020_cls_conus.tif\", masked=True).squeeze()\n",
        "whp_raster2 = rasterio.open(\"data/whp2020_GeoTIF/whp2020_cls_conus.tif\")\n",
        "whp_raster2.crs"
      ],
      "metadata": {
        "colab": {
          "base_uri": "https://localhost:8080/"
        },
        "id": "JNnLwCYyVan-",
        "outputId": "696310fc-954f-4820-ca1d-52d6746b675d"
      },
      "id": "JNnLwCYyVan-",
      "execution_count": 29,
      "outputs": [
        {
          "output_type": "execute_result",
          "data": {
            "text/plain": [
              "CRS.from_epsg(5070)"
            ]
          },
          "metadata": {},
          "execution_count": 29
        }
      ]
    },
    {
      "cell_type": "code",
      "source": [
        "# ! pip install earthpy"
      ],
      "metadata": {
        "id": "U1zBld3Oa2RN"
      },
      "id": "U1zBld3Oa2RN",
      "execution_count": 30,
      "outputs": []
    },
    {
      "cell_type": "code",
      "source": [
        "import earthpy as et\n",
        "import earthpy.plot as ep\n",
        "\n",
        "# Explore the data by plotting a histogram with earthpy\n",
        "ax = ep.hist(whp_raster.values,\n",
        "             figsize=(8, 8),\n",
        "             colors=\"purple\",\n",
        "             xlabel=\"Wildfire hazard potential\",\n",
        "             ylabel=\"Total Pixels\",\n",
        "             title=\"Distribution of Pixel Values \\n WHP Model\")\n",
        "\n",
        "# Turn off scientific notation\n",
        "ax[1].ticklabel_format(useOffset=False,\n",
        "                       style='plain')\n",
        "\n",
        "# Fire risk (1-5), non-burnable lands (6), and open water (7) "
      ],
      "metadata": {
        "colab": {
          "base_uri": "https://localhost:8080/",
          "height": 528
        },
        "id": "ekcTwLTZatZ5",
        "outputId": "32587368-e58e-4cb4-a8dc-0e090802bfce"
      },
      "id": "ekcTwLTZatZ5",
      "execution_count": 31,
      "outputs": [
        {
          "output_type": "display_data",
          "data": {
            "text/plain": [
              "<Figure size 576x576 with 1 Axes>"
            ],
            "image/png": "[encoded data removed]"
          },
          "metadata": {
            "needs_background": "light"
          }
        }
      ]
    },
    {
      "cell_type": "code",
      "source": [
        "import geopandas as gpd\n",
        "\n",
        "fires_gdf = gpd.read_file(\"data/NIFC_Wildland_Fire_Perimeters.gdb\")"
      ],
      "metadata": {
        "id": "cscCNGYcchSM"
      },
      "id": "cscCNGYcchSM",
      "execution_count": 32,
      "outputs": []
    },
    {
      "cell_type": "code",
      "source": [
        "proj_gdf = fires_gdf.to_crs(5070)\n",
        "# '+proj=merc +a=6378137 +b=6378137 +lat_ts=0.0 +lon_0=0.0 +x_0=0.0 +y_0=0 +k=1.0 +units=m +nadgrids=@null +wktext  +no_defs\n"
      ],
      "metadata": {
        "id": "a3_6FZ0HddNT"
      },
      "id": "a3_6FZ0HddNT",
      "execution_count": 33,
      "outputs": []
    },
    {
      "cell_type": "code",
      "source": [
        "from matplotlib import pyplot as plt\n",
        "from rasterio.plot import plotting_extent\n",
        "\n",
        "fig, ax = plt.subplots(figsize=(10, 10))\n",
        "\n",
        "# We plot with the zeros in the data so the CHM can be better represented visually\n",
        "ep.plot_bands(whp_raster,\n",
        "              extent=plotting_extent(whp_raster,\n",
        "                                     whp_raster.rio.transform()),  # Set spatial extent\n",
        "              cmap='Greys',\n",
        "              title=\"WHP\",\n",
        "              scale=False,\n",
        "              ax=ax)\n",
        "\n",
        "proj_gdf.plot(ax=ax,\n",
        "              marker='s',\n",
        "              markersize=2,\n",
        "              alpha=0.2,\n",
        "              color='purple')\n",
        "ax.set_axis_off()\n",
        "plt.show()"
      ],
      "metadata": {
        "colab": {
          "base_uri": "https://localhost:8080/",
          "height": 310
        },
        "id": "Mf1u6HTha6QP",
        "outputId": "bd80e39b-fe78-420b-ac1c-1efac83747d2"
      },
      "id": "Mf1u6HTha6QP",
      "execution_count": 34,
      "outputs": [
        {
          "output_type": "display_data",
          "data": {
            "text/plain": [
              "<Figure size 720x720 with 2 Axes>"
            ],
            "image/png": "[encoded data removed]"
          },
          "metadata": {
            "needs_background": "light"
          }
        }
      ]
    },
    {
      "cell_type": "code",
      "source": [
        "coord_list = [(x,y) for x,y in zip(proj_gdf['geometry'].x , proj_gdf['geometry'].y)]\n",
        "coord_list[:10]"
      ],
      "metadata": {
        "colab": {
          "base_uri": "https://localhost:8080/"
        },
        "id": "Oi9qG1hsjK6S",
        "outputId": "eb99adbc-102b-45c4-e2c7-1c0626a4d361"
      },
      "id": "Oi9qG1hsjK6S",
      "execution_count": 35,
      "outputs": [
        {
          "output_type": "execute_result",
          "data": {
            "text/plain": [
              "[(-657335.8886370335, 2562263.049799819),\n",
              " (-2020356.3728325635, 1430482.9756937572),\n",
              " (-1406404.8379264094, 2926146.9619063814),\n",
              " (-1944013.0106105774, 1340243.972796706),\n",
              " (-2133858.2610589587, 2039878.5823191511),\n",
              " (658720.3668637436, 912080.0028300082),\n",
              " (-1297411.4554180712, 2000592.735756252),\n",
              " (-1227533.3458451224, 2506193.1085097883),\n",
              " (-522982.494590329, 2244875.9258583956),\n",
              " (-2049554.7156279425, 1879164.4341768874)]"
            ]
          },
          "metadata": {},
          "execution_count": 35
        }
      ]
    },
    {
      "cell_type": "code",
      "source": [
        "# the polygon GeoJSON geometry\n",
        "# load the raster, mask it by the polygon and crop it\n",
        "proj_gdf['WildfireHazardPotential'] = [x[0] for x in whp_raster2.sample(coord_list)]\n",
        "proj_gdf"
      ],
      "metadata": {
        "colab": {
          "base_uri": "https://localhost:8080/",
          "height": 1000
        },
        "id": "54eyU6trf9Kw",
        "outputId": "3c6e6959-4ed0-4c48-f1cd-ab30321ec210"
      },
      "id": "54eyU6trf9Kw",
      "execution_count": 36,
      "outputs": [
        {
          "output_type": "execute_result",
          "data": {
            "text/plain": [
              "       ABCDMisc ADSPermissionState  CalculatedAcres  \\\n",
              "0          None          CERTIFIED            50.64   \n",
              "1          None            DEFAULT              NaN   \n",
              "2          None            DEFAULT              NaN   \n",
              "3          None            DEFAULT              NaN   \n",
              "4          None            DEFAULT              NaN   \n",
              "...         ...                ...              ...   \n",
              "212233     None            DEFAULT              NaN   \n",
              "212234     None            DEFAULT              NaN   \n",
              "212235     None            DEFAULT              NaN   \n",
              "212236     None            DEFAULT              NaN   \n",
              "212237     None            DEFAULT              NaN   \n",
              "\n",
              "              ContainmentDateTime            ControlDateTime  DailyAcres  \\\n",
              "0       2020-08-06T23:13:07+00:00  2020-08-06T23:13:24+00:00        50.6   \n",
              "1                            None                       None         NaN   \n",
              "2       2017-10-18T00:30:00+00:00  2017-10-18T00:35:00+00:00        50.0   \n",
              "3                            None                       None         NaN   \n",
              "4                            None                       None         NaN   \n",
              "...                           ...                        ...         ...   \n",
              "212233                       None                       None         NaN   \n",
              "212234                       None                       None         1.0   \n",
              "212235                       None                       None         1.0   \n",
              "212236                       None                       None         1.0   \n",
              "212237                       None                       None       117.0   \n",
              "\n",
              "        DiscoveryAcres DispatchCenterID  EstimatedCostToDate  \\\n",
              "0                 20.0            MTMCC                  NaN   \n",
              "1                  0.1           CALACC                  NaN   \n",
              "2                 50.0            MTKIC                  NaN   \n",
              "3                  NaN           CAMVIC                  NaN   \n",
              "4                  NaN             None                  NaN   \n",
              "...                ...              ...                  ...   \n",
              "212233             NaN            SDGPC                  NaN   \n",
              "212234             1.0            ILILC                  NaN   \n",
              "212235             1.0            ILILC                  NaN   \n",
              "212236             1.0            ILILC                  NaN   \n",
              "212237             NaN            ARAOC                750.0   \n",
              "\n",
              "       FinalFireReportApprovedByTitle  ... StrategicDecisionPublishDate  \\\n",
              "0                                None  ...                         None   \n",
              "1                                None  ...                         None   \n",
              "2                                None  ...                         None   \n",
              "3                                None  ...                         None   \n",
              "4                                None  ...                         None   \n",
              "...                               ...  ...                          ...   \n",
              "212233                           None  ...                         None   \n",
              "212234                           None  ...                         None   \n",
              "212235                           None  ...                         None   \n",
              "212236                           None  ...                         None   \n",
              "212237                           None  ...                         None   \n",
              "\n",
              "             CreatedOnDateTime_dt      ModifiedOnDateTime_dt Source  \\\n",
              "0       2020-08-06T19:50:29+00:00  2020-08-12T20:46:01+00:00  IRWIN   \n",
              "1       2020-02-28T20:52:36+00:00  2020-02-28T20:52:36+00:00  IRWIN   \n",
              "2       2017-10-18T13:46:40+00:00  2017-11-09T22:08:19+00:00  IRWIN   \n",
              "3       2019-07-01T20:10:12+00:00  2019-07-01T20:10:12+00:00  IRWIN   \n",
              "4       2016-06-20T22:39:02+00:00  2016-06-20T22:39:02+00:00  IRWIN   \n",
              "...                           ...                        ...    ...   \n",
              "212233  2022-03-21T13:24:39+00:00  2022-03-21T13:24:39+00:00  IRWIN   \n",
              "212234  2022-03-21T13:29:12+00:00  2022-03-21T13:46:28+00:00  IRWIN   \n",
              "212235  2022-03-21T13:36:34+00:00  2022-03-21T13:48:06+00:00  IRWIN   \n",
              "212236  2022-03-21T13:39:35+00:00  2022-03-21T13:48:28+00:00  IRWIN   \n",
              "212237  2022-03-21T13:49:15+00:00  2022-03-21T13:49:15+00:00  IRWIN   \n",
              "\n",
              "                                      GlobalID IsCpxChild CpxName CpxID  \\\n",
              "0       {E5436898-ED0D-4CB1-90C0-D61915FE1F29}        NaN    None  None   \n",
              "1       {0E79B7FD-2882-43CF-8CFA-911BD1C8F77A}        NaN    None  None   \n",
              "2       {FAC59A92-E6AD-443B-8625-4AAABCF7F533}        NaN    None  None   \n",
              "3       {5DF06F41-9948-49D3-B00A-2D3A1D1049C5}        NaN    None  None   \n",
              "4       {F378818E-D541-4E0A-9A44-C81886C2B8B4}        NaN    None  None   \n",
              "...                                        ...        ...     ...   ...   \n",
              "212233  {C15A3B09-A767-40FB-8404-DFA2CBC0F42F}        0.0    None  None   \n",
              "212234  {054AFEB9-7BAF-425E-B528-2E6C436547D0}        0.0    None  None   \n",
              "212235  {9F4846CC-07EC-4D84-9D37-DD016F11A502}        0.0    None  None   \n",
              "212236  {A2794C09-838A-4434-97F4-9E82289DDC18}        0.0    None  None   \n",
              "212237  {0AB414D2-1457-4736-83D0-5BFCE68A3A9D}        0.0    None  None   \n",
              "\n",
              "                                geometry WildfireHazardPotential  \n",
              "0        POINT (-657335.889 2562263.050)                     1.0  \n",
              "1       POINT (-2020356.373 1430482.976)                     6.0  \n",
              "2       POINT (-1406404.838 2926146.962)                     2.0  \n",
              "3       POINT (-1944013.011 1340243.973)                     3.0  \n",
              "4       POINT (-2133858.261 2039878.582)                     4.0  \n",
              "...                                  ...                     ...  \n",
              "212233   POINT (-275399.873 2346165.408)                     3.0  \n",
              "212234    POINT (660738.663 2068307.654)                     1.0  \n",
              "212235    POINT (650344.604 2064806.965)                     1.0  \n",
              "212236    POINT (650154.168 2065558.372)                     1.0  \n",
              "212237     POINT (89829.768 1363827.658)                     3.0  \n",
              "\n",
              "[212238 rows x 95 columns]"
            ],
            "text/html": [
              "\n",
              "  <div id=\"df-03bfe5f9-b7aa-40ea-b0ae-f3042f116abe\">\n",
              "    <div class=\"colab-df-container\">\n",
              "      <div>\n",
              "<style scoped>\n",
              "    .dataframe tbody tr th:only-of-type {\n",
              "        vertical-align: middle;\n",
              "    }\n",
              "\n",
              "    .dataframe tbody tr th {\n",
              "        vertical-align: top;\n",
              "    }\n",
              "\n",
              "    .dataframe thead th {\n",
              "        text-align: right;\n",
              "    }\n",
              "</style>\n",
              "<table border=\"1\" class=\"dataframe\">\n",
              "  <thead>\n",
              "    <tr style=\"text-align: right;\">\n",
              "      <th></th>\n",
              "      <th>ABCDMisc</th>\n",
              "      <th>ADSPermissionState</th>\n",
              "      <th>CalculatedAcres</th>\n",
              "      <th>ContainmentDateTime</th>\n",
              "      <th>ControlDateTime</th>\n",
              "      <th>DailyAcres</th>\n",
              "      <th>DiscoveryAcres</th>\n",
              "      <th>DispatchCenterID</th>\n",
              "      <th>EstimatedCostToDate</th>\n",
              "      <th>FinalFireReportApprovedByTitle</th>\n",
              "      <th>...</th>\n",
              "      <th>StrategicDecisionPublishDate</th>\n",
              "      <th>CreatedOnDateTime_dt</th>\n",
              "      <th>ModifiedOnDateTime_dt</th>\n",
              "      <th>Source</th>\n",
              "      <th>GlobalID</th>\n",
              "      <th>IsCpxChild</th>\n",
              "      <th>CpxName</th>\n",
              "      <th>CpxID</th>\n",
              "      <th>geometry</th>\n",
              "      <th>WildfireHazardPotential</th>\n",
              "    </tr>\n",
              "  </thead>\n",
              "  <tbody>\n",
              "    <tr>\n",
              "      <th>0</th>\n",
              "      <td>None</td>\n",
              "      <td>CERTIFIED</td>\n",
              "      <td>50.64</td>\n",
              "      <td>2020-08-06T23:13:07+00:00</td>\n",
              "      <td>2020-08-06T23:13:24+00:00</td>\n",
              "      <td>50.6</td>\n",
              "      <td>20.0</td>\n",
              "      <td>MTMCC</td>\n",
              "      <td>NaN</td>\n",
              "      <td>None</td>\n",
              "      <td>...</td>\n",
              "      <td>None</td>\n",
              "      <td>2020-08-06T19:50:29+00:00</td>\n",
              "      <td>2020-08-12T20:46:01+00:00</td>\n",
              "      <td>IRWIN</td>\n",
              "      <td>{E5436898-ED0D-4CB1-90C0-D61915FE1F29}</td>\n",
              "      <td>NaN</td>\n",
              "      <td>None</td>\n",
              "      <td>None</td>\n",
              "      <td>POINT (-657335.889 2562263.050)</td>\n",
              "      <td>1.0</td>\n",
              "    </tr>\n",
              "    <tr>\n",
              "      <th>1</th>\n",
              "      <td>None</td>\n",
              "      <td>DEFAULT</td>\n",
              "      <td>NaN</td>\n",
              "      <td>None</td>\n",
              "      <td>None</td>\n",
              "      <td>NaN</td>\n",
              "      <td>0.1</td>\n",
              "      <td>CALACC</td>\n",
              "      <td>NaN</td>\n",
              "      <td>None</td>\n",
              "      <td>...</td>\n",
              "      <td>None</td>\n",
              "      <td>2020-02-28T20:52:36+00:00</td>\n",
              "      <td>2020-02-28T20:52:36+00:00</td>\n",
              "      <td>IRWIN</td>\n",
              "      <td>{0E79B7FD-2882-43CF-8CFA-911BD1C8F77A}</td>\n",
              "      <td>NaN</td>\n",
              "      <td>None</td>\n",
              "      <td>None</td>\n",
              "      <td>POINT (-2020356.373 1430482.976)</td>\n",
              "      <td>6.0</td>\n",
              "    </tr>\n",
              "    <tr>\n",
              "      <th>2</th>\n",
              "      <td>None</td>\n",
              "      <td>DEFAULT</td>\n",
              "      <td>NaN</td>\n",
              "      <td>2017-10-18T00:30:00+00:00</td>\n",
              "      <td>2017-10-18T00:35:00+00:00</td>\n",
              "      <td>50.0</td>\n",
              "      <td>50.0</td>\n",
              "      <td>MTKIC</td>\n",
              "      <td>NaN</td>\n",
              "      <td>None</td>\n",
              "      <td>...</td>\n",
              "      <td>None</td>\n",
              "      <td>2017-10-18T13:46:40+00:00</td>\n",
              "      <td>2017-11-09T22:08:19+00:00</td>\n",
              "      <td>IRWIN</td>\n",
              "      <td>{FAC59A92-E6AD-443B-8625-4AAABCF7F533}</td>\n",
              "      <td>NaN</td>\n",
              "      <td>None</td>\n",
              "      <td>None</td>\n",
              "      <td>POINT (-1406404.838 2926146.962)</td>\n",
              "      <td>2.0</td>\n",
              "    </tr>\n",
              "    <tr>\n",
              "      <th>3</th>\n",
              "      <td>None</td>\n",
              "      <td>DEFAULT</td>\n",
              "      <td>NaN</td>\n",
              "      <td>None</td>\n",
              "      <td>None</td>\n",
              "      <td>NaN</td>\n",
              "      <td>NaN</td>\n",
              "      <td>CAMVIC</td>\n",
              "      <td>NaN</td>\n",
              "      <td>None</td>\n",
              "      <td>...</td>\n",
              "      <td>None</td>\n",
              "      <td>2019-07-01T20:10:12+00:00</td>\n",
              "      <td>2019-07-01T20:10:12+00:00</td>\n",
              "      <td>IRWIN</td>\n",
              "      <td>{5DF06F41-9948-49D3-B00A-2D3A1D1049C5}</td>\n",
              "      <td>NaN</td>\n",
              "      <td>None</td>\n",
              "      <td>None</td>\n",
              "      <td>POINT (-1944013.011 1340243.973)</td>\n",
              "      <td>3.0</td>\n",
              "    </tr>\n",
              "    <tr>\n",
              "      <th>4</th>\n",
              "      <td>None</td>\n",
              "      <td>DEFAULT</td>\n",
              "      <td>NaN</td>\n",
              "      <td>None</td>\n",
              "      <td>None</td>\n",
              "      <td>NaN</td>\n",
              "      <td>NaN</td>\n",
              "      <td>None</td>\n",
              "      <td>NaN</td>\n",
              "      <td>None</td>\n",
              "      <td>...</td>\n",
              "      <td>None</td>\n",
              "      <td>2016-06-20T22:39:02+00:00</td>\n",
              "      <td>2016-06-20T22:39:02+00:00</td>\n",
              "      <td>IRWIN</td>\n",
              "      <td>{F378818E-D541-4E0A-9A44-C81886C2B8B4}</td>\n",
              "      <td>NaN</td>\n",
              "      <td>None</td>\n",
              "      <td>None</td>\n",
              "      <td>POINT (-2133858.261 2039878.582)</td>\n",
              "      <td>4.0</td>\n",
              "    </tr>\n",
              "    <tr>\n",
              "      <th>...</th>\n",
              "      <td>...</td>\n",
              "      <td>...</td>\n",
              "      <td>...</td>\n",
              "      <td>...</td>\n",
              "      <td>...</td>\n",
              "      <td>...</td>\n",
              "      <td>...</td>\n",
              "      <td>...</td>\n",
              "      <td>...</td>\n",
              "      <td>...</td>\n",
              "      <td>...</td>\n",
              "      <td>...</td>\n",
              "      <td>...</td>\n",
              "      <td>...</td>\n",
              "      <td>...</td>\n",
              "      <td>...</td>\n",
              "      <td>...</td>\n",
              "      <td>...</td>\n",
              "      <td>...</td>\n",
              "      <td>...</td>\n",
              "      <td>...</td>\n",
              "    </tr>\n",
              "    <tr>\n",
              "      <th>212233</th>\n",
              "      <td>None</td>\n",
              "      <td>DEFAULT</td>\n",
              "      <td>NaN</td>\n",
              "      <td>None</td>\n",
              "      <td>None</td>\n",
              "      <td>NaN</td>\n",
              "      <td>NaN</td>\n",
              "      <td>SDGPC</td>\n",
              "      <td>NaN</td>\n",
              "      <td>None</td>\n",
              "      <td>...</td>\n",
              "      <td>None</td>\n",
              "      <td>2022-03-21T13:24:39+00:00</td>\n",
              "      <td>2022-03-21T13:24:39+00:00</td>\n",
              "      <td>IRWIN</td>\n",
              "      <td>{C15A3B09-A767-40FB-8404-DFA2CBC0F42F}</td>\n",
              "      <td>0.0</td>\n",
              "      <td>None</td>\n",
              "      <td>None</td>\n",
              "      <td>POINT (-275399.873 2346165.408)</td>\n",
              "      <td>3.0</td>\n",
              "    </tr>\n",
              "    <tr>\n",
              "      <th>212234</th>\n",
              "      <td>None</td>\n",
              "      <td>DEFAULT</td>\n",
              "      <td>NaN</td>\n",
              "      <td>None</td>\n",
              "      <td>None</td>\n",
              "      <td>1.0</td>\n",
              "      <td>1.0</td>\n",
              "      <td>ILILC</td>\n",
              "      <td>NaN</td>\n",
              "      <td>None</td>\n",
              "      <td>...</td>\n",
              "      <td>None</td>\n",
              "      <td>2022-03-21T13:29:12+00:00</td>\n",
              "      <td>2022-03-21T13:46:28+00:00</td>\n",
              "      <td>IRWIN</td>\n",
              "      <td>{054AFEB9-7BAF-425E-B528-2E6C436547D0}</td>\n",
              "      <td>0.0</td>\n",
              "      <td>None</td>\n",
              "      <td>None</td>\n",
              "      <td>POINT (660738.663 2068307.654)</td>\n",
              "      <td>1.0</td>\n",
              "    </tr>\n",
              "    <tr>\n",
              "      <th>212235</th>\n",
              "      <td>None</td>\n",
              "      <td>DEFAULT</td>\n",
              "      <td>NaN</td>\n",
              "      <td>None</td>\n",
              "      <td>None</td>\n",
              "      <td>1.0</td>\n",
              "      <td>1.0</td>\n",
              "      <td>ILILC</td>\n",
              "      <td>NaN</td>\n",
              "      <td>None</td>\n",
              "      <td>...</td>\n",
              "      <td>None</td>\n",
              "      <td>2022-03-21T13:36:34+00:00</td>\n",
              "      <td>2022-03-21T13:48:06+00:00</td>\n",
              "      <td>IRWIN</td>\n",
              "      <td>{9F4846CC-07EC-4D84-9D37-DD016F11A502}</td>\n",
              "      <td>0.0</td>\n",
              "      <td>None</td>\n",
              "      <td>None</td>\n",
              "      <td>POINT (650344.604 2064806.965)</td>\n",
              "      <td>1.0</td>\n",
              "    </tr>\n",
              "    <tr>\n",
              "      <th>212236</th>\n",
              "      <td>None</td>\n",
              "      <td>DEFAULT</td>\n",
              "      <td>NaN</td>\n",
              "      <td>None</td>\n",
              "      <td>None</td>\n",
              "      <td>1.0</td>\n",
              "      <td>1.0</td>\n",
              "      <td>ILILC</td>\n",
              "      <td>NaN</td>\n",
              "      <td>None</td>\n",
              "      <td>...</td>\n",
              "      <td>None</td>\n",
              "      <td>2022-03-21T13:39:35+00:00</td>\n",
              "      <td>2022-03-21T13:48:28+00:00</td>\n",
              "      <td>IRWIN</td>\n",
              "      <td>{A2794C09-838A-4434-97F4-9E82289DDC18}</td>\n",
              "      <td>0.0</td>\n",
              "      <td>None</td>\n",
              "      <td>None</td>\n",
              "      <td>POINT (650154.168 2065558.372)</td>\n",
              "      <td>1.0</td>\n",
              "    </tr>\n",
              "    <tr>\n",
              "      <th>212237</th>\n",
              "      <td>None</td>\n",
              "      <td>DEFAULT</td>\n",
              "      <td>NaN</td>\n",
              "      <td>None</td>\n",
              "      <td>None</td>\n",
              "      <td>117.0</td>\n",
              "      <td>NaN</td>\n",
              "      <td>ARAOC</td>\n",
              "      <td>750.0</td>\n",
              "      <td>None</td>\n",
              "      <td>...</td>\n",
              "      <td>None</td>\n",
              "      <td>2022-03-21T13:49:15+00:00</td>\n",
              "      <td>2022-03-21T13:49:15+00:00</td>\n",
              "      <td>IRWIN</td>\n",
              "      <td>{0AB414D2-1457-4736-83D0-5BFCE68A3A9D}</td>\n",
              "      <td>0.0</td>\n",
              "      <td>None</td>\n",
              "      <td>None</td>\n",
              "      <td>POINT (89829.768 1363827.658)</td>\n",
              "      <td>3.0</td>\n",
              "    </tr>\n",
              "  </tbody>\n",
              "</table>\n",
              "<p>212238 rows × 95 columns</p>\n",
              "</div>\n",
              "      <button class=\"colab-df-convert\" onclick=\"convertToInteractive('df-03bfe5f9-b7aa-40ea-b0ae-f3042f116abe')\"\n",
              "              title=\"Convert this dataframe to an interactive table.\"\n",
              "              style=\"display:none;\">\n",
              "        \n",
              "  <svg xmlns=\"http://www.w3.org/2000/svg\" height=\"24px\"viewBox=\"0 0 24 24\"\n",
              "       width=\"24px\">\n",
              "    <path d=\"M0 0h24v24H0V0z\" fill=\"none\"/>\n",
              "    <path d=\"M18.56 5.44l.94 2.06.94-2.06 2.06-.94-2.06-.94-.94-2.06-.94 2.06-2.06.94zm-11 1L8.5 8.5l.94-2.06 2.06-.94-2.06-.94L8.5 2.5l-.94 2.06-2.06.94zm10 10l.94 2.06.94-2.06 2.06-.94-2.06-.94-.94-2.06-.94 2.06-2.06.94z\"/><path d=\"M17.41 7.96l-1.37-1.37c-.4-.4-.92-.59-1.43-.59-.52 0-1.04.2-1.43.59L10.3 9.45l-7.72 7.72c-.78.78-.78 2.05 0 2.83L4 21.41c.39.39.9.59 1.41.59.51 0 1.02-.2 1.41-.59l7.78-7.78 2.81-2.81c.8-.78.8-2.07 0-2.86zM5.41 20L4 18.59l7.72-7.72 1.47 1.35L5.41 20z\"/>\n",
              "  </svg>\n",
              "      </button>\n",
              "      \n",
              "  <style>\n",
              "    .colab-df-container {\n",
              "      display:flex;\n",
              "      flex-wrap:wrap;\n",
              "      gap: 12px;\n",
              "    }\n",
              "\n",
              "    .colab-df-convert {\n",
              "      background-color: #E8F0FE;\n",
              "      border: none;\n",
              "      border-radius: 50%;\n",
              "      cursor: pointer;\n",
              "      display: none;\n",
              "      fill: #1967D2;\n",
              "      height: 32px;\n",
              "      padding: 0 0 0 0;\n",
              "      width: 32px;\n",
              "    }\n",
              "\n",
              "    .colab-df-convert:hover {\n",
              "      background-color: #E2EBFA;\n",
              "      box-shadow: 0px 1px 2px rgba(60, 64, 67, 0.3), 0px 1px 3px 1px rgba(60, 64, 67, 0.15);\n",
              "      fill: #174EA6;\n",
              "    }\n",
              "\n",
              "    [theme=dark] .colab-df-convert {\n",
              "      background-color: #3B4455;\n",
              "      fill: #D2E3FC;\n",
              "    }\n",
              "\n",
              "    [theme=dark] .colab-df-convert:hover {\n",
              "      background-color: #434B5C;\n",
              "      box-shadow: 0px 1px 3px 1px rgba(0, 0, 0, 0.15);\n",
              "      filter: drop-shadow(0px 1px 2px rgba(0, 0, 0, 0.3));\n",
              "      fill: #FFFFFF;\n",
              "    }\n",
              "  </style>\n",
              "\n",
              "      <script>\n",
              "        const buttonEl =\n",
              "          document.querySelector('#df-03bfe5f9-b7aa-40ea-b0ae-f3042f116abe button.colab-df-convert');\n",
              "        buttonEl.style.display =\n",
              "          google.colab.kernel.accessAllowed ? 'block' : 'none';\n",
              "\n",
              "        async function convertToInteractive(key) {\n",
              "          const element = document.querySelector('#df-03bfe5f9-b7aa-40ea-b0ae-f3042f116abe');\n",
              "          const dataTable =\n",
              "            await google.colab.kernel.invokeFunction('convertToInteractive',\n",
              "                                                     [key], {});\n",
              "          if (!dataTable) return;\n",
              "\n",
              "          const docLinkHtml = 'Like what you see? Visit the ' +\n",
              "            '<a target=\"_blank\" href=https://colab.research.google.com/notebooks/data_table.ipynb>data table notebook</a>'\n",
              "            + ' to learn more about interactive tables.';\n",
              "          element.innerHTML = '';\n",
              "          dataTable['output_type'] = 'display_data';\n",
              "          await google.colab.output.renderOutput(dataTable, element);\n",
              "          const docLink = document.createElement('div');\n",
              "          docLink.innerHTML = docLinkHtml;\n",
              "          element.appendChild(docLink);\n",
              "        }\n",
              "      </script>\n",
              "    </div>\n",
              "  </div>\n",
              "  "
            ]
          },
          "metadata": {},
          "execution_count": 36
        }
      ]
    },
    {
      "cell_type": "code",
      "source": [
        "import earthpy as et\n",
        "import earthpy.plot as ep\n",
        "\n",
        "plt.figure(figsize=(8, 8))\n",
        "\n",
        "# Explore the data by plotting a histogram with earthpy\n",
        "plt.hist(proj_gdf['WildfireHazardPotential'], bins=[x+0.5 for x in range(8)], rwidth=0.4);\n"
      ],
      "metadata": {
        "colab": {
          "base_uri": "https://localhost:8080/",
          "height": 483
        },
        "id": "Az35dWo_leYE",
        "outputId": "6bc04906-472f-4f1c-ea3e-4f5f98587a77"
      },
      "id": "Az35dWo_leYE",
      "execution_count": 43,
      "outputs": [
        {
          "output_type": "display_data",
          "data": {
            "text/plain": [
              "<Figure size 576x576 with 1 Axes>"
            ],
            "image/png": "[encoded data removed]"
          },
          "metadata": {
            "needs_background": "light"
          }
        }
      ]
    },
    {
      "cell_type": "code",
      "source": [
        ""
      ],
      "metadata": {
        "id": "tpZRrPKbluuS"
      },
      "id": "tpZRrPKbluuS",
      "execution_count": null,
      "outputs": []
    }
  ],
  "metadata": {
    "kernelspec": {
      "display_name": "Python 3",
      "language": "python",
      "name": "python3"
    },
    "language_info": {
      "codemirror_mode": {
        "name": "ipython",
        "version": 3
      },
      "file_extension": ".py",
      "mimetype": "text/x-python",
      "name": "python",
      "nbconvert_exporter": "python",
      "pygments_lexer": "ipython3",
      "version": "3.8.12"
    },
    "colab": {
      "name": "Exploration_HazardPotentialDistribution.ipynb",
      "provenance": []
    }
  },
  "nbformat": 4,
  "nbformat_minor": 5
}